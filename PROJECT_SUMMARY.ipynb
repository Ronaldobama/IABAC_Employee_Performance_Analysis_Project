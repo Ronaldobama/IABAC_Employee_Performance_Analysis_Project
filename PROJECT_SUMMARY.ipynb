{
 "cells": [
  {
   "cell_type": "markdown",
   "id": "bc0383b4",
   "metadata": {},
   "source": [
    "## Employee Performance Analysis - INX Future Inc"
   ]
  },
  {
   "cell_type": "raw",
   "id": "ab62bd7c",
   "metadata": {},
   "source": [
    "Candidate Name      : Pratyush Pralim Pradhan\n",
    "E-Mail              : pratyush.john@gmail.com\n",
    "Project Code        : 10281 \n",
    "REP Name            : DataMites™ Solutions Pvt Ltd\n",
    "Assesment ID        : E10901-PR2-V18\n",
    "Module              : Certified Data Scientist - Project\n",
    "Exam Format         : Open Project- IABAC™ Project Submission\n",
    "Registered Trainer  : Ashok Kumar A\n",
    "Submission Deadline Date: 01-Oct-2023  "
   ]
  },
  {
   "cell_type": "markdown",
   "id": "172a2dd9",
   "metadata": {},
   "source": [
    "## Project Summary"
   ]
  },
  {
   "cell_type": "markdown",
   "id": "745403b8",
   "metadata": {},
   "source": [
    "The Data science project which is given here is an analysis of employee performance form INX Furture Inc. The project goal is to find the performance rating of the employees from each feature of their data such as total work experience, gender, department, current role..etc. The Goal and Insights of the project as follows,\n",
    "\n",
    "1. Department wise performances\n",
    "2. Top 3 Important Factors affecting employee performance\n",
    "3. A trained model which can predict the employee performance based on factors as inputs. This will be used to hire employees\n",
    "4. Recommendations to improve the employee performance based on insights from analysis.\n",
    "The given data of employees has the 1200 data to perform a higher level machine learning where it is well structured. The features present in the data are 28 in total. The Shape of the data is 1200x28. The 28 features are classified into quantitative and qualitative where 16 features are qualitative and 11 features are quantitative. The employee ID data is alphanumerical data which doesn't play a role as a relevant feature for performance rating.\n",
    "\n",
    "The dataset is a complete labelled data and categorical which decides the machine learning algorithm to be used. The important aspects of the data are depending on the correlation of data between features and performance rating. The analysis of the project has gone through the stage of distribution analysis, correlation analysis and analysis by each department to satisfy the project goal.\n",
    "\n",
    "The machine learning model which is used in this project is random forest classifier and gradient boosted classifier which predicted the nearby higher accuracy of 92%. Since it is categorical labelled data, it has to go through the classifier machine learning techniques which will be suitable for this structured data. The numerical features are the most relevant in the model according to correlation technique.\n",
    "\n",
    "One of the goals of this project is to find the important feature affecting the performance rating. The important features were predicted using the machine learning model feature importance technique. The main technique used in the preprocessing data using the one hot encoding method to convert the string-categorical data into numerical data, because, the most of machine learning methods are based on numerical methods where strings are not supportive. The overall project was performed and achieved the goals by using the machine learning model and visualization techniques."
   ]
  },
  {
   "cell_type": "markdown",
   "id": "3dd23f6a",
   "metadata": {},
   "source": [
    "## 1. Requirement\n",
    "The data was given from the IABAC for this project where the collected source is IABAC. The data is based on INX Future Inc, (referred as INX ). It is one of the leading data analytics and automation solutions provider with over 15 years of global business presence. The data is not from the real organization. The whole project was done in Jupiter notebook with python platform."
   ]
  },
  {
   "cell_type": "markdown",
   "id": "6e5d5dcb",
   "metadata": {},
   "source": [
    "## 2. Analysis"
   ]
  },
  {
   "cell_type": "markdown",
   "id": "baaab28e",
   "metadata": {},
   "source": [
    "Data were analyzed by describing the features present in the data. the features play the bigger part in the analysis. the features tell the relation between the dependent and independent variables. Pandas also help to describe the datasets answering following questions early in our project. The futures present in the data are divided into numerical and categorical data."
   ]
  },
  {
   "cell_type": "markdown",
   "id": "736ceb1b",
   "metadata": {},
   "source": [
    "## Categorical Features"
   ]
  },
  {
   "cell_type": "raw",
   "id": "86bdcb10",
   "metadata": {},
   "source": [
    "These values classify the samples into sets of similar samples. Within categorical features are the values nominal, ordinal, ratio, or interval based. The categorical features as follows,\n",
    "\n",
    "Gender\n",
    "EducationBackground\n",
    "MaritalStatus\n",
    "EmpDepartment\n",
    "EmpJobRole\n",
    "BusinessTravelFrequency\n",
    "EmpEducationLevel\n",
    "EmpEnvironmentSatisfaction\n",
    "EmpJobInvolvement\n",
    "EmpJobLevel\n",
    "EmpJobSatisfaction\n",
    "OverTime\n",
    "EmpRelationshipSatisfaction\n",
    "EmpWorkLifeBalance\n",
    "Attrition\n",
    "PerformanceRating"
   ]
  },
  {
   "cell_type": "markdown",
   "id": "37609441",
   "metadata": {},
   "source": [
    "## Numerical Features"
   ]
  },
  {
   "cell_type": "markdown",
   "id": "c4da2a3e",
   "metadata": {},
   "source": [
    " These values change from sample to sample. Within numerical features are the values discrete, continuous, or timeseries based. The Numerical Features as follows,\n",
    "\n",
    " Age\n",
    " DistanceFromHome\n",
    " EmpHourlyRate\n",
    " NumCompaniesWorked\n",
    " EmpLastSalaryHikePercent\n",
    " TotalWorkExperienceInYears\n",
    " TrainingTimesLastYear\n",
    " ExperienceYearsAtThisCompany\n",
    " ExperienceYearsInCurrentRole\n",
    " YearsSinceLastPromotion\n",
    " YearsWithCurrManager"
   ]
  },
  {
   "cell_type": "markdown",
   "id": "0aa6ff68",
   "metadata": {},
   "source": [
    "## Alphanumeric Features"
   ]
  },
  {
   "cell_type": "markdown",
   "id": "a724feab",
   "metadata": {},
   "source": [
    "Numerical, alphanumeric data within same feature. These are candidates for correcting goal. Employee ID number is a mix of numeric and alphanumeric data types."
   ]
  },
  {
   "cell_type": "markdown",
   "id": "e50f3d45",
   "metadata": {},
   "source": [
    "## Distribution of Numerical Features"
   ]
  },
  {
   "cell_type": "markdown",
   "id": "dbd44762",
   "metadata": {},
   "source": [
    "This helps us determine, among other early insights, how representative is the training dataset of the actual problem domain.the distribution can be derived or visualized using the density map between the numerical or categorical features present in the data.\n",
    "\n",
    "The age distribution is starting from 18 to 60 where the most of the employees are lying between 30 to 40 age count.\n",
    "The distance from home to office is distributing from 0 unit to 30 unit which can be kilometre or mile. The most of the employees are coming from the range of 0 to 5 units.\n",
    "Employees are worked in the multiple companies up to 8 companies where most of the employees worked up to 2 companies before getting to work here.\n",
    "The hourly rate range is 65 to 95 for majority employees work in this company.\n",
    "In General, Most of Employees work up to 5 years in this company.\n",
    "Most of the employees get 11% to 15% of salary hike in this company."
   ]
  },
  {
   "cell_type": "markdown",
   "id": "faa5cbcf",
   "metadata": {},
   "source": [
    "## Distribution of Categorical Features"
   ]
  },
  {
   "cell_type": "markdown",
   "id": "05ede2d0",
   "metadata": {},
   "source": [
    "The Gender variance is divided by 60% of Male employees and 40% of Female employees in the company.\n",
    "The number of the educational backgrounds present in the employees is six unique backgrounds.\n",
    "nineteen unique employee job roles are present in this company.\n",
    "The most of the employees are having the education level of 3\n",
    "The Job satisfaction level in this company is high level for the majority of employees.\n",
    "The 85% of employees are not having attrition in their work\n",
    "only 11% of employees in the company were achieved level 4 - performance rating\n",
    "The overall percentage of employees doing overtime is 30%"
   ]
  },
  {
   "cell_type": "markdown",
   "id": "7596387c",
   "metadata": {},
   "source": [
    "## Data Clean Check"
   ]
  },
  {
   "cell_type": "markdown",
   "id": "6036ba3e",
   "metadata": {},
   "source": [
    "The Data cleaning and wrangling is the part of the Data science project where the workflow the project go through this stage. because the damaged and missing data will lead to the disaster in the accuracy and quality of the model. If the data is already structured and cleaned, there is no need for the data cleaning. In this case, the given data is well structured and cleaned and there are no missing data present in this data."
   ]
  },
  {
   "cell_type": "markdown",
   "id": "785bd255",
   "metadata": {},
   "source": [
    "## Analysis"
   ]
  },
  {
   "cell_type": "markdown",
   "id": "bc2284bf",
   "metadata": {},
   "source": [
    "The data is supervised and categorical as well as numerical, we have 19 Numerical features and 9 categorical features. The predictor variables are nominal and ordinal. The target variable 'PerformanceRating' is ordinal.\n",
    "\n"
   ]
  },
  {
   "cell_type": "markdown",
   "id": "e71e89d5",
   "metadata": {},
   "source": [
    "## Exploratory Data Analysis"
   ]
  },
  {
   "cell_type": "markdown",
   "id": "bb2cd658",
   "metadata": {},
   "source": [
    "### UNIVARIANT ANALYSIS"
   ]
  },
  {
   "cell_type": "markdown",
   "id": "dca94a2c",
   "metadata": {},
   "source": [
    "Average age of employee in the INX Future Inc is 36 whereas the maximum employee lies in the age group of 25 to 45.\n",
    "\n",
    "Many employees resides near the office.\n",
    "\n",
    "Many employees has given rating as 3.0 for employee job environment.\n",
    "\n",
    "Many employees has worked for 0-1 company.\n",
    "\n",
    "Most of the employee got salary hike of 0-12%.\n",
    "\n",
    "Most of the employee has given performance rating as 3"
   ]
  },
  {
   "cell_type": "markdown",
   "id": "37bef5e0",
   "metadata": {},
   "source": [
    "### BIVARIANT ANALYSIS"
   ]
  },
  {
   "cell_type": "markdown",
   "id": "f66b070f",
   "metadata": {},
   "source": [
    "We can conclude that from EmpDepartement Development department is showing high performance rate as compared to other departement.\n",
    "\n",
    "After development department Research & Development department performed well.Sales,Human resources, data science and finance also performed well.\n",
    "\n",
    "employee which are business analyst, technical lead, data scientist, developer,have performed well performance rating of employee does not vary with Marital status employee who do overtime have rated as more as compared to those who doesn't do overtime.\n",
    "\n",
    "Employee with gender as male are rated more as compare to female employee, the reason may be there are more number of male employees than female employees in the company.\n",
    "\n",
    "Employees with education background of Life science and medical are rated more\n",
    "\n",
    "Employee who travel rarely are rated more as compared to those who travel frequently or who are non traveler\n",
    "\n",
    "Performance rating of employee depends on Years with current manager.when manager is same for long duration of time the employee performace drops. So, for improving performance of employee the manager needs to shuffle atleast after every 2-3 years.\n",
    "\n",
    "performance rating depends on years since last promotion. when employee are not promoted since 2 to 3 years, the perfromance of employee drops. Hence to imporve performace of employee the employee should be promoted after every 1 year or at least 2 years.\n",
    "\n",
    "Performace of employee also depends on employee work life balance. when employee work life balance is good and are rated as 3 the performance rating of employee is also more.\n",
    "\n",
    "When employee relationship satisfaction is more the performance of employee is also more\n",
    "\n",
    "When total work experience of employee is above 10 year the performace of employee drops\n",
    "\n",
    "When the employee got salary hike of more than 19%, the performce of employee increased. thus, employee performace depends on the salary hike given by the company. employee with higher salary hike percentage has performed well.\n",
    "\n",
    "Employee who are satisfied by environment have performed well.\n",
    "\n",
    "We can see that 11% and 16.3% of employees having low job satisfaction and job involvement have low performance ratings"
   ]
  },
  {
   "cell_type": "markdown",
   "id": "ca69c17f",
   "metadata": {},
   "source": [
    "## Data Preprocessing"
   ]
  },
  {
   "cell_type": "markdown",
   "id": "f22ae1bf",
   "metadata": {},
   "source": [
    "Checking Null values:- There are no null values\n",
    "\n",
    "Categorical to Numerical data conversion:- Handle categorical data to Numerical using Label encoding.\n",
    "\n",
    "Outlier Handling:- Some features contains outliers so we are imputing these outliers with the help of IQR and 3 sigma rule. If the features are normally distributed we will use 3 sigma rule. If the features are not normally distributed we will use IQR.\n",
    "\n",
    "Feature Transformation:- In YearsSinceLastPromotion some skewed & kurtosis is present, so we used Square Root Transformation techinque.\n",
    "\n",
    "Scaling the data:- Scaling the data with the help of Standard scalar.\n",
    "\n",
    "Standard Scaling: Standardization is the process of scaling the feature, it assumes the feature follow normal distribution and scale the feature between mean and standard deviation, here mean is 0 and standard deviation is always 1."
   ]
  },
  {
   "cell_type": "markdown",
   "id": "57a12b71",
   "metadata": {},
   "source": [
    "## Feature Selection"
   ]
  },
  {
   "cell_type": "markdown",
   "id": "1ea16507",
   "metadata": {},
   "source": [
    "There are lot of features in our dataset, to extract important features which really contribute to target feature we need to find corelation coefficient. Corelation coefficient is used to find out the important features in dataset and these features are then used to train the model.\n",
    "\n",
    "From there, we also get the top factors which affect performance. We can see that the most important features selected were Department, Job Role, Environment Satisfaction, Last Salary Hike Percent, Work Life Balance, Experience Years At This Company, Experience Years In Current Role, Years Since Last Promotion, Years With Current Manager. These were selected because their correlation coeffecient with Performance Rating was more than 0.1.\n",
    "\n",
    "Standarization and Label Encoding was also used for feature transformation.\n",
    "\n",
    "We can conclude that top 3 Important Factors affecting employee performance are-\n",
    "\n",
    "1)Employee EnvironmentSatisfaction,\n",
    "\n",
    "2)Employee Last Salary Hike Percent and\n",
    "\n",
    "3)EmpWorkLifeBalance\n",
    "\n",
    "Drop unique and constant feature: Dropping employee number because this is a constant column as well as drop Years Since Last Promotion because we create a new feaure using square root transformation\n",
    "\n",
    "Checking Correlation: Checking correlation with the help of heat map, and get the their is no highly correlated feature is present. Heatmap: A heatmap is a graphical representation of data that uses a system of color-coding to represent different values.\n",
    "\n",
    "Check Duplicates: In this data there are no dupicates present."
   ]
  },
  {
   "cell_type": "markdown",
   "id": "a159e5b6",
   "metadata": {},
   "source": [
    "## Conclusion"
   ]
  },
  {
   "cell_type": "markdown",
   "id": "4cead3aa",
   "metadata": {},
   "source": [
    "We can conclude that top 3 Important Factors affecting employee performance are-\n",
    "\n",
    "1)Employee EnvironmentSatisfaction,\n",
    "\n",
    "2)Employee Last Salary Hike Percent and\n",
    "\n",
    "3)EmpWorkLifeBalance"
   ]
  },
  {
   "cell_type": "markdown",
   "id": "38338649",
   "metadata": {},
   "source": [
    "## Machine Learning Model Creation & Evaluation"
   ]
  },
  {
   "cell_type": "markdown",
   "id": "2a712dc1",
   "metadata": {},
   "source": [
    "1) Define Dependant and Independant Features:\n",
    "\n",
    "2) Balancing the data: The data is imbalance, so we need to balance the data with the help of SMOTE SMOTE: SMOTE (synthetic minority oversampling technique) is one of the most commonly used oversampling methods to solve the imbalance problem. It aims to balance class distribution by randomly increasing minority class examples by replicating them. SMOTE synthesises new minority instances between existing minority instances.\n",
    "\n",
    "3) Splitting Training And Testing Data: 75% data use for training & 25% data used for testing"
   ]
  },
  {
   "cell_type": "markdown",
   "id": "fc00d97d",
   "metadata": {},
   "source": [
    "## Algorithm:"
   ]
  },
  {
   "cell_type": "markdown",
   "id": "0fff6be1",
   "metadata": {},
   "source": [
    "AIM: Create a sweet spot model (Low bias, Low variance)\n",
    "\n",
    "Here we will be experimenting with following Algorithms-\n",
    "\n",
    "1) Logistic Regression\n",
    "\n",
    "2) Support Vector Machine\n",
    "\n",
    "3) Random Forest\n",
    "\n",
    "4) Decission Tree\n",
    "\n",
    "5) Artificial Neural Network MLP classifier\n",
    "\n",
    "Support vector machine well perform on training data with accuracy 90% but the test score is 87%.\n",
    "\n",
    "Random forest very well perform in training data with 100% accuracy but in testing 96% after doing hyperparameter tunning testing score is decreases.\n",
    "\n",
    "Artifical neural network[Multilayer percepton] perform very well on training data with 99% accuracy and testing score is 91.48%.\n",
    "\n",
    "So we are selecting Random forest model for our project."
   ]
  },
  {
   "cell_type": "markdown",
   "id": "0f0af13a",
   "metadata": {},
   "source": [
    "## Recommendations To Improve Employee Performance"
   ]
  },
  {
   "cell_type": "markdown",
   "id": "dd6e96ba",
   "metadata": {},
   "source": [
    "The overall employee performance can be achieved by employee environment satisfaction. The company needs to focus more on the employee environment satisfaction.\n",
    "\n",
    "Shuffling the manager after every 2-3 years will result in good performance of employee.\n",
    "\n",
    "The salary hike will give the boost to the employees to perform well.\n",
    "\n",
    "Promote the employee every 6th month\n",
    "\n",
    "Improve Employee's work-life balance this affects the performance rating.\n",
    "\n",
    "While recruiting for HR, consider the female candidates where they perform well compared to male.\n",
    "\n",
    "The development and sales department is having an overall higher performance comparing to rest of the departments. While some of the employees who gives feedback like Low & Medium from Job Satisfaction & Relationship Satisfaction feature, such employees gives Excellent performance more in number. So company should focus on them."
   ]
  },
  {
   "cell_type": "code",
   "execution_count": null,
   "id": "8412f8c8",
   "metadata": {},
   "outputs": [],
   "source": []
  }
 ],
 "metadata": {
  "kernelspec": {
   "display_name": "Python 3 (ipykernel)",
   "language": "python",
   "name": "python3"
  },
  "language_info": {
   "codemirror_mode": {
    "name": "ipython",
    "version": 3
   },
   "file_extension": ".py",
   "mimetype": "text/x-python",
   "name": "python",
   "nbconvert_exporter": "python",
   "pygments_lexer": "ipython3",
   "version": "3.9.7"
  }
 },
 "nbformat": 4,
 "nbformat_minor": 5
}
